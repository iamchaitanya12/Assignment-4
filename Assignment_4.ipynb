{
  "nbformat": 4,
  "nbformat_minor": 0,
  "metadata": {
    "colab": {
      "provenance": []
    },
    "kernelspec": {
      "name": "python3",
      "display_name": "Python 3"
    },
    "language_info": {
      "name": "python"
    }
  },
  "cells": [
    {
      "cell_type": "code",
      "execution_count": 1,
      "metadata": {
        "colab": {
          "base_uri": "https://localhost:8080/"
        },
        "id": "Wr2XOvPBUX3h",
        "outputId": "3f6b812a-52de-4723-de96-6eaa7a88ca2c"
      },
      "outputs": [
        {
          "output_type": "stream",
          "name": "stdout",
          "text": [
            "SJF Non-Preemptive Scheduling:\n",
            "Process\tWaiting Time\tTurnaround Time\n",
            "D\t0\t\t15\n",
            "B\t25\t\t45\n",
            "A\t55\t\t85\n",
            "C\t70\t\t110\n",
            "Average Waiting Time: 37.5\n",
            "Average Turnaround Time: 63.75\n"
          ]
        }
      ],
      "source": [
        "def sjfNonPremetive(arr):\n",
        "    size = len(arr)\n",
        "\n",
        "    for i in range(size - 1):\n",
        "        index = i\n",
        "        for j in range(i + 1, size):\n",
        "            if arr[j][2] < arr[index][2]:\n",
        "                index = j\n",
        "\n",
        "        arr[i], arr[index] = arr[index], arr[i]\n",
        "\n",
        "    total_time = 0\n",
        "    wait_time = [0] * size\n",
        "    turnaround_time = [0] * size\n",
        "\n",
        "    for i in range(size):\n",
        "        process = arr[i]\n",
        "        if process[1] > total_time:\n",
        "            total_time = process[1]\n",
        "        wait_time[i] = total_time - process[1]\n",
        "        total_time += process[2]\n",
        "        turnaround_time[i] = total_time - process[1]\n",
        "\n",
        "\n",
        "    total_wait_time = sum(wait_time)\n",
        "    total_turnaround_time = sum(turnaround_time)\n",
        "\n",
        "\n",
        "    avg_wait_time = total_wait_time / size\n",
        "    avg_turnaround_time = total_turnaround_time / size\n",
        "\n",
        "    print(\"SJF Non-Preemptive Scheduling:\")\n",
        "    print(\"Process\\tWait Time\\tTurnaround Time\")\n",
        "\n",
        "\n",
        "    for i in range(size):\n",
        "        print(f\"{arr[i][0]}\\t{wait_time[i]}\\t\\t{turnaround_time[i]}\")\n",
        "\n",
        "\n",
        "    print(f\"Average Wait Time: {avg_wait_time}\")\n",
        "    print(f\"Average Turnaround Time: {avg_turnaround_time}\")\n",
        "\n",
        "if __name__ == \"__main__\":\n",
        "    processes = [\n",
        "        (\"A\", 0, 30, 3),\n",
        "        (\"B\", 10, 20, 1),\n",
        "        (\"C\", 15, 40, 4),\n",
        "        (\"D\", 20, 15, 2)\n",
        "    ]\n",
        "\n",
        "    sjfNonPremetive(processes)\n"
      ]
    },
    {
      "cell_type": "code",
      "source": [
        "def fcfs(arr):\n",
        "    size = len(arr)\n",
        "\n",
        "\n",
        "    total_time = 0\n",
        "    wait_time = [0] * size\n",
        "    turnaround_time = [0] * size\n",
        "\n",
        "    for i in range(size):\n",
        "        process = arr[i]\n",
        "        if process[1] > total_time:\n",
        "            total_time = process[1]\n",
        "        wait_time[i] = total_time - process[1]\n",
        "        total_time += process[2]\n",
        "        turnaround_time[i] = total_time - process[1]\n",
        "\n",
        "    total_wait_time = sum(wait_time)\n",
        "    total_turnaround_time = sum(turnaround_time)\n",
        "\n",
        "\n",
        "    avg_wait_time = total_wait_time / size\n",
        "    avg_turnaround_time = total_turnaround_time / size\n",
        "\n",
        "    print(\"FCFS Scheduling:\")\n",
        "    print(\"Process\\tWait Time\\tTurnaround Time\")\n",
        "\n",
        "    for i in range(size):\n",
        "        print(f\"{arr[i][0]}\\t{wait_time[i]}\\t\\t{turnaround_time[i]}\")\n",
        "\n",
        "\n",
        "    print(f\"Average Wait Time: {avg_wait_time}\")\n",
        "    print(f\"Average Turnaround Time: {avg_turnaround_time}\")\n",
        "\n",
        "if __name__ == \"__main__\":\n",
        "    processes = [\n",
        "        (\"A\", 0, 30, 3),\n",
        "        (\"B\", 10, 20, 1),\n",
        "        (\"C\", 15, 40, 4),\n",
        "        (\"D\", 20, 15, 2)\n",
        "    ]\n",
        "\n",
        "    fcfs(processes)\n"
      ],
      "metadata": {
        "colab": {
          "base_uri": "https://localhost:8080/"
        },
        "id": "ktxSwStCU-HF",
        "outputId": "ffb80c58-fce4-48ad-f181-7b48da04bb9e"
      },
      "execution_count": 2,
      "outputs": [
        {
          "output_type": "stream",
          "name": "stdout",
          "text": [
            "FCFS Scheduling:\n",
            "Process\tWait Time\tTurnaround Time\n",
            "A\t0\t\t30\n",
            "B\t20\t\t40\n",
            "C\t35\t\t75\n",
            "D\t70\t\t85\n",
            "Average Wait Time: 31.25\n",
            "Average Turnaround Time: 57.5\n"
          ]
        }
      ]
    },
    {
      "cell_type": "code",
      "source": [
        "def priorityNonPremetive(arr):\n",
        "    size = len(arr)\n",
        "\n",
        "    for i in range(size - 1):\n",
        "        index = i\n",
        "        for j in range(i + 1, size):\n",
        "            if arr[j][3] < arr[index][3]:\n",
        "                index = j\n",
        "\n",
        "        arr[i], arr[index] = arr[index], arr[i]\n",
        "\n",
        "    total_time = 0\n",
        "    wait_time = [0] * size\n",
        "    turnaround_time = [0] * size\n",
        "\n",
        "    for i in range(size):\n",
        "        process = arr[i]\n",
        "        if process[1] > total_time:\n",
        "            total_time = process[1]\n",
        "        wait_time[i] = total_time - process[1]\n",
        "        total_time += process[2]\n",
        "        turnaround_time[i] = total_time - process[1]\n",
        "\n",
        "    total_wait_time = sum(wait_time)\n",
        "    total_turnaround_time = sum(turnaround_time)\n",
        "\n",
        "\n",
        "    avg_wait_time = total_wait_time / size\n",
        "    avg_turnaround_time = total_turnaround_time / size\n",
        "\n",
        "    print(\"Priority Scheduling Non-Preemptive:\")\n",
        "    print(\"Process\\tWait Time\\tTurnaround Time\")\n",
        "\n",
        "    for i in range(size):\n",
        "        print(f\"{arr[i][0]}\\t{wait_time[i]}\\t\\t{turnaround_time[i]}\")\n",
        "\n",
        "    print(f\"Average Wait Time: {avg_wait_time}\")\n",
        "    print(f\"Average Turnaround Time: {avg_turnaround_time}\")\n",
        "\n",
        "if __name__ == \"__main__\":\n",
        "    processes = [\n",
        "        (\"A\", 0, 30, 3),\n",
        "        (\"B\", 10, 20, 1),\n",
        "        (\"C\", 15, 40, 4),\n",
        "        (\"D\", 20, 15, 2)\n",
        "    ]\n",
        "\n",
        "    priorityNonPremetive(processes)\n"
      ],
      "metadata": {
        "colab": {
          "base_uri": "https://localhost:8080/"
        },
        "id": "74o1j2V-U-U4",
        "outputId": "e8e7b09f-6572-49df-f138-69791b1b7c79"
      },
      "execution_count": 3,
      "outputs": [
        {
          "output_type": "stream",
          "name": "stdout",
          "text": [
            "Priority Scheduling Non-Preemptive:\n",
            "Process\tWait Time\tTurnaround Time\n",
            "B\t0\t\t20\n",
            "D\t10\t\t25\n",
            "A\t45\t\t75\n",
            "C\t60\t\t100\n",
            "Average Wait Time: 28.75\n",
            "Average Turnaround Time: 55.0\n"
          ]
        }
      ]
    }
  ]
}